{
 "cells": [
  {
   "cell_type": "markdown",
   "metadata": {},
   "source": [
    "# Practical exam"
   ]
  },
  {
   "cell_type": "code",
   "execution_count": null,
   "metadata": {},
   "outputs": [],
   "source": [
    "### Please state your name here: Campean Liviu\n"
   ]
  },
  {
   "cell_type": "code",
   "execution_count": 1,
   "metadata": {},
   "outputs": [
    {
     "name": "stdout",
     "output_type": "stream",
     "text": [
      "Note: you may need to restart the kernel to use updated packages.\n",
      "Note: you may need to restart the kernel to use updated packages.\n"
     ]
    }
   ],
   "source": [
    "# make sure requirements are up to date\n",
    "%pip install --upgrade pip >> results/requirements_log.txt\n",
    "%pip install -r ../requirements.txt >> results/requirements_log.txt"
   ]
  },
  {
   "cell_type": "markdown",
   "metadata": {},
   "source": [
    "### 1.\n",
    "\n",
    "Given the below snippet, add the necessary code lines in function f2 in order to obtain the expected output:"
   ]
  },
  {
   "cell_type": "code",
   "execution_count": 31,
   "metadata": {},
   "outputs": [
    {
     "name": "stdout",
     "output_type": "stream",
     "text": [
      "~~~ 1\n",
      "{'cubed': 1}\n",
      "{'squared': 1}\n",
      "@@@ 1\n",
      "~~~ 2\n",
      "{'cubed': 8}\n",
      "{'squared': 4}\n",
      "@@@ 2\n",
      "~~~ 3\n",
      "{'cubed': 27}\n",
      "{'squared': 9}\n",
      "@@@ 3\n",
      "~~~ 4\n",
      "{'cubed': 64}\n",
      "{'squared': 16}\n",
      "@@@ 4\n"
     ]
    }
   ],
   "source": [
    "def f2(n):\n",
    "    for i in range(1, n):\n",
    "        print(f\"~~~ {i}\")\n",
    "        yield(\"{\"f\"'cubed': {i**3}\"\"}\")\n",
    "        yield(\"{\"f\"'squared': {i**2}\"\"}\")\n",
    "        yield(f\"@@@ {i}\")\n",
    "\n",
    "n = 5\n",
    "for x in f2(n):\n",
    "    print(x)"
   ]
  },
  {
   "cell_type": "markdown",
   "metadata": {},
   "source": [
    "Expected output:\n",
    "\n",
    "```\n",
    "~~~ 1\n",
    "{'cubed': 1}\n",
    "{'squared': 1}\n",
    "@@@ 1\n",
    "~~~ 2\n",
    "{'cubed': 8}\n",
    "{'squared': 4}\n",
    "@@@ 2\n",
    "~~~ 3\n",
    "{'cubed': 27}\n",
    "{'squared': 9}\n",
    "@@@ 3\n",
    "~~~ 4\n",
    "{'cubed': 64}\n",
    "{'squared': 16}\n",
    "@@@ 4\n",
    "```"
   ]
  },
  {
   "cell_type": "markdown",
   "metadata": {},
   "source": [
    "### 2.\n",
    "\n",
    "Under **resources**, there are two input files, [input_file_1.csv](/2022/python_workshop/notebooks/resources/input_file_1.csv) and [input_file_2.csv](/2022/python_workshop/notebooks/resources/input_file_2.csv).\n",
    "\n",
    "Given the two input files, remove the duplicates.\n",
    "\n",
    "If rows in all files are combined, there must be NO duplicates. Solution should include 2 functions, one for reading data from files and one for writing data to files. A partial solution without functions is accepted.\n",
    "\n",
    "Expected output: two separate output files under results/expected, [output_file_1.csv](/2022/python_workshop/notebooks/results/expected/output_file_1.csv) and [output_file_2.csv](/2022/python_workshop/notebooks/results/expected/output_file_2.csv)."
   ]
  },
  {
   "cell_type": "code",
   "execution_count": 14,
   "metadata": {},
   "outputs": [],
   "source": [
    "import csv\n",
    "def read_csv(r_file):\n",
    "    lst = []\n",
    "    with open(r_file, 'r') as file:\n",
    "        reader = csv.reader(file)\n",
    "        for row in reader:\n",
    "            if row not in lst:\n",
    "             lst.append(row)\n",
    "    return lst\n",
    "\n",
    "\n",
    "def write_csv(r_lst1, w_file1, r_lst2, w_file2, ):\n",
    "    csv_rowlist1 = read_csv(r_lst1)\n",
    "    csv_rowlist2 = read_csv(r_lst2)\n",
    "    for el in csv_rowlist2:\n",
    "        if el in csv_rowlist1[1:]:\n",
    "            csv_rowlist2.remove(el)\n",
    "    with open(w_file1, 'w') as file:\n",
    "        writer = csv.writer(file)\n",
    "        writer.writerows(csv_rowlist1)\n",
    "    with open(w_file2, 'w') as file:\n",
    "        writer = csv.writer(file)\n",
    "        writer.writerows(csv_rowlist2)\n",
    "    \n",
    "\n",
    "write_csv('resources/input_file_1.csv', 'resources/output_file_1.csv', 'resources/input_file_2.csv', 'resources/output_file_2.csv')\n"
   ]
  },
  {
   "cell_type": "markdown",
   "metadata": {},
   "source": [
    "### 3.\n",
    "\n",
    "Using the [data.gov.ro](https://data.gov.ro/dataset/acreditarea-unitatilor-sanitare-2021) API, extract the \"accredited hospitals 2021\" data set (link available below).\n",
    "\n",
    "Alternatively, if the API is down, use the backup file **hospitals.csv** from the **resources** folder as a source."
   ]
  },
  {
   "cell_type": "code",
   "execution_count": 15,
   "metadata": {},
   "outputs": [],
   "source": [
    "import requests\n",
    "import pandas as pd"
   ]
  },
  {
   "cell_type": "code",
   "execution_count": 43,
   "metadata": {},
   "outputs": [
    {
     "data": {
      "text/html": [
       "<div>\n",
       "<style scoped>\n",
       "    .dataframe tbody tr th:only-of-type {\n",
       "        vertical-align: middle;\n",
       "    }\n",
       "\n",
       "    .dataframe tbody tr th {\n",
       "        vertical-align: top;\n",
       "    }\n",
       "\n",
       "    .dataframe thead th {\n",
       "        text-align: right;\n",
       "    }\n",
       "</style>\n",
       "<table border=\"1\" class=\"dataframe\">\n",
       "  <thead>\n",
       "    <tr style=\"text-align: right;\">\n",
       "      <th></th>\n",
       "      <th>Nr. Crt.</th>\n",
       "      <th>Nume</th>\n",
       "      <th>Cod A.N.M.C.S.</th>\n",
       "      <th>Judet</th>\n",
       "      <th>Clasificare</th>\n",
       "      <th>TIP USP (in functie de specificul patologiei tratate)</th>\n",
       "      <th>TIP USP (in functie de regimul proprietatii)</th>\n",
       "      <th>TIP USP (din punct de vedere al invatamantului si al cercetarii stiintifice medicale)</th>\n",
       "      <th>Adresa completa a sediului principal</th>\n",
       "      <th>Adresa email oficiala</th>\n",
       "      <th>Website</th>\n",
       "      <th>Autoritatea tutelara</th>\n",
       "      <th>Acreditare ciclul I</th>\n",
       "      <th>Acreditare ciclul II</th>\n",
       "      <th>Unnamed: 15</th>\n",
       "      <th>__1</th>\n",
       "      <th>__2</th>\n",
       "    </tr>\n",
       "  </thead>\n",
       "  <tbody>\n",
       "    <tr>\n",
       "      <th>0</th>\n",
       "      <td>1.0</td>\n",
       "      <td>SPITALUL MUNICIPAL CALAFAT</td>\n",
       "      <td>A001</td>\n",
       "      <td>Dolj</td>\n",
       "      <td>IV</td>\n",
       "      <td>general</td>\n",
       "      <td>public</td>\n",
       "      <td>fara invatamant</td>\n",
       "      <td>B-dul. T. Vladimirescu, Nr. 24, Calafat, cod 2...</td>\n",
       "      <td>spitalcalafat@gmail.com</td>\n",
       "      <td>spitalcalafat.ro</td>\n",
       "      <td>PRIMARIA MUNICIPIULUI CALAFAT</td>\n",
       "      <td>Acreditat</td>\n",
       "      <td>Categoria V Decizie de prelungire a procesului...</td>\n",
       "      <td>NaN</td>\n",
       "      <td>NaN</td>\n",
       "      <td>NaN</td>\n",
       "    </tr>\n",
       "    <tr>\n",
       "      <th>1</th>\n",
       "      <td>2.0</td>\n",
       "      <td>SPITALUL DE PSIHIATRIE CRONICI SCHITU GRECI</td>\n",
       "      <td>A002</td>\n",
       "      <td>Olt</td>\n",
       "      <td>V</td>\n",
       "      <td>afectiuni cronice</td>\n",
       "      <td>public</td>\n",
       "      <td>fara invatamant</td>\n",
       "      <td>SLATINA STR. A. I. CUZA NR. 14</td>\n",
       "      <td>spitalulschitu@gmail.com</td>\n",
       "      <td>www.spitalul-schitu.ro</td>\n",
       "      <td>CONSILIUL JUDETEAN OLT</td>\n",
       "      <td>Acreditat</td>\n",
       "      <td>Categoria V Decizie de prelungire a procesului...</td>\n",
       "      <td>NaN</td>\n",
       "      <td>NaN</td>\n",
       "      <td>NaN</td>\n",
       "    </tr>\n",
       "    <tr>\n",
       "      <th>2</th>\n",
       "      <td>3.0</td>\n",
       "      <td>SPITALUL CLINIC NICOLAE MALAXA</td>\n",
       "      <td>A003</td>\n",
       "      <td>Bucuresti</td>\n",
       "      <td>III</td>\n",
       "      <td>general</td>\n",
       "      <td>public</td>\n",
       "      <td>clinic cu sectii universitare</td>\n",
       "      <td>STR. DIMITRIE CANTEMIR, NR.1, PARTER, SECT.4, ...</td>\n",
       "      <td>secretariat@spitalmalaxa.ro</td>\n",
       "      <td>www.spitalmalaxa.ro</td>\n",
       "      <td>ASSMB</td>\n",
       "      <td>Acreditat</td>\n",
       "      <td>Categoria IV Acreditat cu incredere redusa</td>\n",
       "      <td>NaN</td>\n",
       "      <td>NaN</td>\n",
       "      <td>NaN</td>\n",
       "    </tr>\n",
       "    <tr>\n",
       "      <th>3</th>\n",
       "      <td>4.0</td>\n",
       "      <td>SPITALUL MILITAR DE URGENTA \"REGINA MARIA\" BRA?OV</td>\n",
       "      <td>A004</td>\n",
       "      <td>Brasov</td>\n",
       "      <td>III</td>\n",
       "      <td>urgenta</td>\n",
       "      <td>public</td>\n",
       "      <td>fara invatamant</td>\n",
       "      <td>Bucuresti, Str. Institutul Medico-Militar, Nr....</td>\n",
       "      <td>smureginamaria@rdsbv.ro</td>\n",
       "      <td>www.smubrasov.ro</td>\n",
       "      <td>DIRECtIA MEDICALa a Ministerului Apararii Nati...</td>\n",
       "      <td>Acreditat</td>\n",
       "      <td>Categoria II Acreditat cu recomandari</td>\n",
       "      <td>NaN</td>\n",
       "      <td>NaN</td>\n",
       "      <td>NaN</td>\n",
       "    </tr>\n",
       "    <tr>\n",
       "      <th>4</th>\n",
       "      <td>5.0</td>\n",
       "      <td>SPITALUL ORASENESC INEU</td>\n",
       "      <td>A005</td>\n",
       "      <td>Arad</td>\n",
       "      <td>IV</td>\n",
       "      <td>general</td>\n",
       "      <td>public</td>\n",
       "      <td>fara invatamant</td>\n",
       "      <td>Calea Republicii, nr. 5</td>\n",
       "      <td>spitalineu@yahoo.ro</td>\n",
       "      <td>http://www.spitalineu.ro</td>\n",
       "      <td>Primaria Orasului Ineu</td>\n",
       "      <td>Acreditat</td>\n",
       "      <td>Categoria V Decizie de prelungire a procesului...</td>\n",
       "      <td>NaN</td>\n",
       "      <td>NaN</td>\n",
       "      <td>NaN</td>\n",
       "    </tr>\n",
       "  </tbody>\n",
       "</table>\n",
       "</div>"
      ],
      "text/plain": [
       "   Nr. Crt.                                               Nume Cod A.N.M.C.S.  \\\n",
       "0       1.0                         SPITALUL MUNICIPAL CALAFAT           A001   \n",
       "1       2.0        SPITALUL DE PSIHIATRIE CRONICI SCHITU GRECI           A002   \n",
       "2       3.0                     SPITALUL CLINIC NICOLAE MALAXA           A003   \n",
       "3       4.0  SPITALUL MILITAR DE URGENTA \"REGINA MARIA\" BRA?OV           A004   \n",
       "4       5.0                            SPITALUL ORASENESC INEU           A005   \n",
       "\n",
       "       Judet Clasificare  \\\n",
       "0       Dolj          IV   \n",
       "1        Olt           V   \n",
       "2  Bucuresti         III   \n",
       "3     Brasov         III   \n",
       "4       Arad          IV   \n",
       "\n",
       "  TIP USP (in functie de specificul patologiei tratate)  \\\n",
       "0                                            general      \n",
       "1                                  afectiuni cronice      \n",
       "2                                            general      \n",
       "3                                            urgenta      \n",
       "4                                            general      \n",
       "\n",
       "  TIP USP (in functie de regimul proprietatii)  \\\n",
       "0                                       public   \n",
       "1                                       public   \n",
       "2                                       public   \n",
       "3                                       public   \n",
       "4                                       public   \n",
       "\n",
       "  TIP USP (din punct de vedere al invatamantului si al cercetarii stiintifice medicale)  \\\n",
       "0                                    fara invatamant                                      \n",
       "1                                    fara invatamant                                      \n",
       "2                      clinic cu sectii universitare                                      \n",
       "3                                    fara invatamant                                      \n",
       "4                                    fara invatamant                                      \n",
       "\n",
       "                Adresa completa a sediului principal  \\\n",
       "0  B-dul. T. Vladimirescu, Nr. 24, Calafat, cod 2...   \n",
       "1                     SLATINA STR. A. I. CUZA NR. 14   \n",
       "2  STR. DIMITRIE CANTEMIR, NR.1, PARTER, SECT.4, ...   \n",
       "3  Bucuresti, Str. Institutul Medico-Militar, Nr....   \n",
       "4                            Calea Republicii, nr. 5   \n",
       "\n",
       "         Adresa email oficiala                   Website  \\\n",
       "0      spitalcalafat@gmail.com          spitalcalafat.ro   \n",
       "1     spitalulschitu@gmail.com    www.spitalul-schitu.ro   \n",
       "2  secretariat@spitalmalaxa.ro       www.spitalmalaxa.ro   \n",
       "3      smureginamaria@rdsbv.ro          www.smubrasov.ro   \n",
       "4          spitalineu@yahoo.ro  http://www.spitalineu.ro   \n",
       "\n",
       "                                Autoritatea tutelara Acreditare ciclul I  \\\n",
       "0                      PRIMARIA MUNICIPIULUI CALAFAT           Acreditat   \n",
       "1                             CONSILIUL JUDETEAN OLT           Acreditat   \n",
       "2                                              ASSMB           Acreditat   \n",
       "3  DIRECtIA MEDICALa a Ministerului Apararii Nati...           Acreditat   \n",
       "4                             Primaria Orasului Ineu           Acreditat   \n",
       "\n",
       "                                Acreditare ciclul II  Unnamed: 15  __1  __2  \n",
       "0  Categoria V Decizie de prelungire a procesului...          NaN  NaN  NaN  \n",
       "1  Categoria V Decizie de prelungire a procesului...          NaN  NaN  NaN  \n",
       "2         Categoria IV Acreditat cu incredere redusa          NaN  NaN  NaN  \n",
       "3              Categoria II Acreditat cu recomandari          NaN  NaN  NaN  \n",
       "4  Categoria V Decizie de prelungire a procesului...          NaN  NaN  NaN  "
      ]
     },
     "execution_count": 43,
     "metadata": {},
     "output_type": "execute_result"
    }
   ],
   "source": [
    "url_hospitals = 'https://data.gov.ro/dataset/4197b53e-7c91-4fcc-be07-883076d40ffc/resource/7a343719-d625-4b5c-98b5-895a684d61c4/download/anmcs-acreditare-unitati-sanitare-dec2021.json'\n",
    "r = requests.get(url_hospitals)\n",
    "j = r.json()\n",
    "\n",
    "#hospitals = pd.DataFrame(j[1])\n",
    "hospitals = pd.read_csv('./resources/hospital.csv', index_col=0)\n",
    "hospitals.head()"
   ]
  },
  {
   "cell_type": "markdown",
   "metadata": {},
   "source": [
    "How many rows are in this dataset?"
   ]
  },
  {
   "cell_type": "code",
   "execution_count": 47,
   "metadata": {},
   "outputs": [
    {
     "data": {
      "text/plain": [
       "(1365, 17)"
      ]
     },
     "execution_count": 47,
     "metadata": {},
     "output_type": "execute_result"
    }
   ],
   "source": [
    "hospitals.shape"
   ]
  },
  {
   "cell_type": "markdown",
   "metadata": {},
   "source": [
    "What are the columns in this dataset?"
   ]
  },
  {
   "cell_type": "code",
   "execution_count": 57,
   "metadata": {},
   "outputs": [
    {
     "data": {
      "text/plain": [
       "Index(['Nume', 'Cod A.N.M.C.S.', 'Judet', 'Clasificare', 'tip_patologie',\n",
       "       'tip', 'Adresa completa a sediului principal', 'email', 'Website',\n",
       "       'autoritate_tutelara', 'acreditare_i', 'acreditare_ii'],\n",
       "      dtype='object')"
      ]
     },
     "execution_count": 57,
     "metadata": {},
     "output_type": "execute_result"
    }
   ],
   "source": [
    "hospitals.columns\n"
   ]
  },
  {
   "cell_type": "markdown",
   "metadata": {},
   "source": [
    "Drop the unnecessary columns:\n",
    "* Nr. Crt.\n",
    "* TIP USP (din punct de vedere al invatamantului si al cercetarii stiintifice medicale)\n",
    "* the last three columns"
   ]
  },
  {
   "cell_type": "code",
   "execution_count": 54,
   "metadata": {},
   "outputs": [],
   "source": [
    "hospitals.drop(['Nr. Crt.', 'TIP USP (din punct de vedere al invatamantului si al cercetarii stiintifice medicale)'], axis=1, inplace=True)\n",
    "hospitals.drop(hospitals.columns[[len(hospitals.columns)-1,len(hospitals.columns)-2, len(hospitals.columns)-3]], axis=1, inplace=True)"
   ]
  },
  {
   "cell_type": "markdown",
   "metadata": {},
   "source": [
    "Apply the following transformations to the columns, so that they are easier to work with:\n",
    "* lowercase all columns\n",
    "* `TIP USP (in functie de specificul patologiei tratate)` rename to `tip_patologie`\n",
    "* `TIP USP (in functie de regimul proprietatii)` rename to `tip`\n",
    "* `Adresa completa a sediului principal` rename to `adresa`\n",
    "* `Adresa email oficiala` rename to `email`\n",
    "* `Autoritatea tutelara` rename to `autoritate_tutelara`\n",
    "* `Acreditare ciclul I` rename to `acreditare_i`\n",
    "* `Acreditare ciclul II` rename to `acreditare_ii`"
   ]
  },
  {
   "cell_type": "code",
   "execution_count": 56,
   "metadata": {},
   "outputs": [],
   "source": [
    "hospitals.rename(columns = {'TIP USP (in functie de specificul patologiei tratate)':'tip_patologie',\n",
    "                            'TIP USP (in functie de regimul proprietatii)':'tip',\n",
    "                            'Adresa email oficiala' :'email',\n",
    "                            'Autoritatea tutelara' : 'autoritate_tutelara',\n",
    "                            'Acreditare ciclul I' : 'acreditare_i',\n",
    "                            'Acreditare ciclul II' : 'acreditare_ii'\n",
    "\n",
    "        }, inplace = True)"
   ]
  },
  {
   "cell_type": "markdown",
   "metadata": {},
   "source": [
    "The total number of hospitals in this dataset is 762, however the actual number of rows is greater than that.\n",
    "\n",
    "Identify and remove the empty (blank space) rows."
   ]
  },
  {
   "cell_type": "code",
   "execution_count": null,
   "metadata": {},
   "outputs": [],
   "source": []
  },
  {
   "cell_type": "markdown",
   "metadata": {},
   "source": [
    "How many public hospitals and how many private hospitals are in this dataset?"
   ]
  },
  {
   "cell_type": "code",
   "execution_count": 59,
   "metadata": {},
   "outputs": [
    {
     "data": {
      "text/plain": [
       "privat    382\n",
       "public    380\n",
       "Name: tip, dtype: int64"
      ]
     },
     "execution_count": 59,
     "metadata": {},
     "output_type": "execute_result"
    }
   ],
   "source": [
    "#public = hospitals\n",
    "hospitals.tip.value_counts()"
   ]
  },
  {
   "cell_type": "markdown",
   "metadata": {},
   "source": [
    "Inspect the values in the `acreditare_i` column + print them."
   ]
  },
  {
   "cell_type": "code",
   "execution_count": 62,
   "metadata": {},
   "outputs": [
    {
     "data": {
      "text/plain": [
       "0       Acreditat\n",
       "1       Acreditat\n",
       "2       Acreditat\n",
       "3       Acreditat\n",
       "4       Acreditat\n",
       "          ...    \n",
       "1360          NaN\n",
       "1361          NaN\n",
       "1362          NaN\n",
       "1363          NaN\n",
       "1364          NaN\n",
       "Name: acreditare_i, Length: 1365, dtype: object"
      ]
     },
     "execution_count": 62,
     "metadata": {},
     "output_type": "execute_result"
    }
   ],
   "source": [
    "hospitals[\"acreditare_i\"]"
   ]
  },
  {
   "cell_type": "markdown",
   "metadata": {},
   "source": [
    "Create a dataframe containing the hospitals that are *not* accredited."
   ]
  },
  {
   "cell_type": "code",
   "execution_count": null,
   "metadata": {},
   "outputs": [],
   "source": []
  },
  {
   "cell_type": "markdown",
   "metadata": {},
   "source": [
    "How many hospitals are *not* accredited?"
   ]
  },
  {
   "cell_type": "code",
   "execution_count": null,
   "metadata": {},
   "outputs": [],
   "source": []
  },
  {
   "cell_type": "markdown",
   "metadata": {},
   "source": [
    "Pick a county (judet) for a more in-depth analysis.\n",
    "(Bucuresti is also a county)"
   ]
  },
  {
   "cell_type": "code",
   "execution_count": null,
   "metadata": {},
   "outputs": [],
   "source": [
    "judet = ..."
   ]
  },
  {
   "cell_type": "markdown",
   "metadata": {},
   "source": [
    "According to this dataset, how many hospitals are in this county?"
   ]
  },
  {
   "cell_type": "code",
   "execution_count": null,
   "metadata": {},
   "outputs": [],
   "source": []
  },
  {
   "cell_type": "markdown",
   "metadata": {},
   "source": [
    "For the chosen county, create a Dataframe that contains the following information:\n",
    "* judet\n",
    "* tip (public, privat)\n",
    "* count of unaccredited hospitals\n",
    "* count of accredited hospitals"
   ]
  },
  {
   "cell_type": "code",
   "execution_count": null,
   "metadata": {},
   "outputs": [],
   "source": [
    "stat = ...\n",
    "stat.head()"
   ]
  },
  {
   "cell_type": "markdown",
   "metadata": {},
   "source": [
    "Create a plot that highlights\n",
    "* the number of accredited public hospitals\n",
    "* the number of accredited private hospitals\n",
    "* the number of unaccredited public hospitals\n",
    "* the number of unaccredited private hospitals\n",
    "\n",
    "The expected output for Bucuresti can be found  [here](/2022/python_workshop/notebooks/results/expected/output_test.png)."
   ]
  },
  {
   "cell_type": "code",
   "execution_count": null,
   "metadata": {},
   "outputs": [],
   "source": [
    "plot_acreditat = ..."
   ]
  },
  {
   "cell_type": "code",
   "execution_count": null,
   "metadata": {},
   "outputs": [],
   "source": []
  },
  {
   "cell_type": "code",
   "execution_count": null,
   "metadata": {},
   "outputs": [],
   "source": [
    "plot_neacreditat = ..."
   ]
  },
  {
   "cell_type": "code",
   "execution_count": null,
   "metadata": {},
   "outputs": [],
   "source": []
  },
  {
   "cell_type": "code",
   "execution_count": null,
   "metadata": {},
   "outputs": [],
   "source": [
    "plot_data = ...\n",
    "plot_data.head()"
   ]
  },
  {
   "cell_type": "code",
   "execution_count": null,
   "metadata": {},
   "outputs": [],
   "source": [
    "plot_data.plot(kind=\"bar\")"
   ]
  }
 ],
 "metadata": {
  "kernelspec": {
   "display_name": "Python 3.10.5",
   "language": "python",
   "name": "py10"
  },
  "language_info": {
   "codemirror_mode": {
    "name": "ipython",
    "version": 3
   },
   "file_extension": ".py",
   "mimetype": "text/x-python",
   "name": "python",
   "nbconvert_exporter": "python",
   "pygments_lexer": "ipython3",
   "version": "3.10.5"
  },
  "orig_nbformat": 4
 },
 "nbformat": 4,
 "nbformat_minor": 2
}
